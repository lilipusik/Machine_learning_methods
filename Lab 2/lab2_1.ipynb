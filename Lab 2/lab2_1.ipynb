{
 "cells": [
  {
   "cell_type": "code",
   "execution_count": 6,
   "id": "f9cd088e",
   "metadata": {},
   "outputs": [],
   "source": [
    "import pandas as pd\n",
    "import matplotlib.pyplot as plt\n",
    "import scipy.stats as stats"
   ]
  },
  {
   "cell_type": "markdown",
   "id": "5d17027d",
   "metadata": {},
   "source": [
    "### Задание 1\n",
    "Загрузите датасет из файла heart.csv со следующими полями (выборка об уровне сердечных заболеваний:\n",
    "<ul>\n",
    "<li>age : Возраст\n",
    "<li>sex : Пол (1 = мужской; 0 = женский)\n",
    "<li>cp : боль в груди (0 - типичная, 1 - асимптотическая, 2 - неангинальная, 3 - нетипичная).\n",
    "<li>trestbps : кровяное давление в состоянии покоя.\n",
    "<li>chol : холестерин сыворотки в мг/дл.\n",
    "<li>fbs : уровень сахара в крови натощак > 120 мг/дл (1 = верно; 0 = неверно)\n",
    "<li>restecg : результаты электрокардиографии в состоянии покоя\n",
    "<li>thalach : максимальная частота сердечных сокращений\n",
    "<li>exang : стенокардия, вызванная физической нагрузкой (1 = да; 0 = нет)\n",
    "<li>oldpeak : депрессия ST, вызванная нагрузкой по сравнению с отдыхом.\n",
    "<li>slope : Наклон пикового сегмента ST при нагрузке.\n",
    "<li>ca : количество крупных сосудов, окрашенных флюороскопически (0–3).\n",
    "<li>thal : (3 = нормально; 6 = фиксированный дефект; 7 = обратимый дефект)\n",
    "<li>target : АГД - Диагностика заболеваний сердца (1 = да; 0 = нет)\n",
    "</ul>\n",
    "<ol>\n",
    "<li>Выведите полученный датасет на экран\n",
    "<li>Пользуясь загруженным датасетом, подтвердите или опровергните гипотезу, что доля населения, страдающего сердечными заболеваниями в городе N, превышает 46% (выведите \"да\", если это так, и \"нет\" в противном случае). Также выведите на экран полученное значение p-value, округлив его до 6 знаков после запятой.\n",
    "</ol>    "
   ]
  },
  {
   "cell_type": "code",
   "execution_count": 7,
   "id": "78753d47",
   "metadata": {},
   "outputs": [
    {
     "name": "stdout",
     "output_type": "stream",
     "text": [
      "     age  sex  cp  trestbps  chol  fbs  restecg  thalach  exang  oldpeak  \\\n",
      "0     63    1   3       145   233    1        0      150      0      2.3   \n",
      "1     37    1   2       130   250    0        1      187      0      3.5   \n",
      "2     41    0   1       130   204    0        0      172      0      1.4   \n",
      "3     56    1   1       120   236    0        1      178      0      0.8   \n",
      "4     57    0   0       120   354    0        1      163      1      0.6   \n",
      "..   ...  ...  ..       ...   ...  ...      ...      ...    ...      ...   \n",
      "298   57    0   0       140   241    0        1      123      1      0.2   \n",
      "299   45    1   3       110   264    0        1      132      0      1.2   \n",
      "300   68    1   0       144   193    1        1      141      0      3.4   \n",
      "301   57    1   0       130   131    0        1      115      1      1.2   \n",
      "302   57    0   1       130   236    0        0      174      0      0.0   \n",
      "\n",
      "     slope  ca  thal  target  \n",
      "0        0   0     1       1  \n",
      "1        0   0     2       1  \n",
      "2        2   0     2       1  \n",
      "3        2   0     2       1  \n",
      "4        2   0     2       1  \n",
      "..     ...  ..   ...     ...  \n",
      "298      1   0     3       0  \n",
      "299      1   0     3       0  \n",
      "300      1   2     3       0  \n",
      "301      1   1     3       0  \n",
      "302      1   1     2       0  \n",
      "\n",
      "[303 rows x 14 columns]\n",
      "да\n",
      "p_value = 0.001926\n"
     ]
    }
   ],
   "source": [
    "# 1\n",
    "heart = pd.read_csv(r'heart.csv')\n",
    "print(heart)\n",
    "\n",
    "# 2\n",
    "p_value = stats.binomtest(heart['target'].sum(), len(heart), p=0.46, alternative='greater').pvalue\n",
    "print(f\"{'да' if p_value < 0.05 else 'нет'}\\np_value = {p_value:.6f}\")"
   ]
  },
  {
   "cell_type": "markdown",
   "id": "9f0182cc",
   "metadata": {},
   "source": [
    "### Задание 2\n",
    "Есть предположение, что среднее давление мужчин и женщин в состоянии покоя в городе N не отличается. Но некоторыми учеными была выдвинута гипотеза, что женщины имеют среднее давление выше чем мужины. Примите или опровергните альтернативную гипотезу. Для этого предварительно убедитесь, что генеральные совокупности имеют равные дисперсии и что обе выборки имеют распределение, близкое к нормальному (с помощью гистограммы). Выведите значение p-value, округлив до 6 знаков после запятой.\n"
   ]
  },
  {
   "cell_type": "code",
   "execution_count": 8,
   "id": "1937efeb",
   "metadata": {},
   "outputs": [
    {
     "name": "stdout",
     "output_type": "stream",
     "text": [
      "(array([ 5., 27., 40., 56., 38., 23.,  9.,  6.,  2.,  1.]), array([ 94. , 103.8, 113.6, 123.4, 133.2, 143. , 152.8, 162.6, 172.4,\n",
      "       182.2, 192. ]), <BarContainer object of 10 artists>) (array([ 4., 13., 15., 26., 19.,  9.,  4.,  3.,  2.,  1.]), array([ 94. , 104.6, 115.2, 125.8, 136.4, 147. , 157.6, 168.2, 178.8,\n",
      "       189.4, 200. ]), <BarContainer object of 10 artists>)\n",
      "Альтернативная гипотеза отвергается\n",
      "p_value = 0.162342\n"
     ]
    },
    {
     "data": {
      "image/png": "[encoded data removed]",
      "text/plain": [
       "<Figure size 640x480 with 1 Axes>"
      ]
     },
     "metadata": {},
     "output_type": "display_data"
    }
   ],
   "source": [
    "fem = heart[heart['sex'] == 0]['trestbps']\n",
    "men = heart[heart['sex'] == 1]['trestbps']\n",
    "\n",
    "if stats.levene(men, fem).pvalue <= 0.005: print('Нельзя использовать t-тест, т.к. дисперсии различны')\n",
    "else:\n",
    "    print(plt.hist(men, alpha=0.5, label='Men'), plt.hist(fem, alpha=0.5, label='Fem'))\n",
    "    plt.legend()\n",
    "    p_value = stats.ttest_ind(men, fem, alternative='less').pvalue\n",
    "    print(f\"{'Альтернативная гипотеза отвергается' if p_value >= 0.025 else 'Альтернативная гипотеза принимается'}\\np_value = {p_value:.6f}\")\n"
   ]
  },
  {
   "cell_type": "markdown",
   "id": "3016ce42",
   "metadata": {},
   "source": [
    "### Задание 3\n",
    "Считается, что средний уровень холестерина среди населения старше 60 лет, равен 250. Была выдвинута гипотеза, что это не так (что она не равна 250). Примите или опровергните эту гипотезу.Выведите значени p-value."
   ]
  },
  {
   "cell_type": "code",
   "execution_count": 9,
   "id": "40a4149e",
   "metadata": {},
   "outputs": [
    {
     "name": "stdout",
     "output_type": "stream",
     "text": [
      "Гипотеза принимается\n",
      "p_value = 0.15876173897401408\n"
     ]
    }
   ],
   "source": [
    "p_value = stats.ttest_1samp(heart[heart['age'] > 60]['chol'], 250).pvalue\n",
    "print(f\"{'Гипотеза опровергнута' if p_value <= 0.025 else 'Гипотеза принимается'}\\np_value = {p_value}\")"
   ]
  },
  {
   "cell_type": "markdown",
   "id": "64fd7807",
   "metadata": {},
   "source": [
    "### Задание 4\n",
    "Вычислите доверительный интервал с уровнем точности 95% для среднего значения максимальной частоты сердечных сокращений населения в городе N."
   ]
  },
  {
   "cell_type": "code",
   "execution_count": 10,
   "id": "4130cce8",
   "metadata": {},
   "outputs": [
    {
     "name": "stdout",
     "output_type": "stream",
     "text": [
      "(147.0574696493637, 152.23625972357362)\n"
     ]
    }
   ],
   "source": [
    "print(stats.t.interval(confidence=0.95, df=len(heart['thalach']), loc=heart['thalach'].mean(), scale=stats.sem(heart['thalach'])))"
   ]
  }
 ],
 "metadata": {
  "kernelspec": {
   "display_name": "Python 3 (ipykernel)",
   "language": "python",
   "name": "python3"
  },
  "language_info": {
   "codemirror_mode": {
    "name": "ipython",
    "version": 3
   },
   "file_extension": ".py",
   "mimetype": "text/x-python",
   "name": "python",
   "nbconvert_exporter": "python",
   "pygments_lexer": "ipython3",
   "version": "3.10.7"
  }
 },
 "nbformat": 4,
 "nbformat_minor": 5
}
