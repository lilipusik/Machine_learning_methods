{
 "cells": [
  {
   "cell_type": "code",
   "execution_count": 1,
   "metadata": {},
   "outputs": [],
   "source": [
    "from pandas import read_csv\n",
    "import numpy as np\n",
    "from sklearn.model_selection import train_test_split, GridSearchCV\n",
    "from sklearn.linear_model import LinearRegression, Lasso, Ridge\n",
    "from sklearn import metrics"
   ]
  },
  {
   "cell_type": "markdown",
   "metadata": {},
   "source": [
    "### <a id='toc1_1_1_'></a>[ЗАДАНИЕ №1](#toc0_)\n",
    "Загрузите датасет house_price.csv  с информацией о стоимости домов. "
   ]
  },
  {
   "cell_type": "code",
   "execution_count": 2,
   "metadata": {},
   "outputs": [],
   "source": [
    "file = read_csv('house_price.csv')"
   ]
  },
  {
   "cell_type": "markdown",
   "metadata": {},
   "source": [
    "### <a id='toc1_1_1_'></a>[ЗАДАНИЕ №2](#toc0_)\n",
    "Выполните очистку данных: удалите столбцы, в которых менее 1000 непустых значений, а затем удалите все строки, где есть пустые значения. Выведите количество оставшихся строк и столбцов."
   ]
  },
  {
   "cell_type": "code",
   "execution_count": 3,
   "metadata": {},
   "outputs": [
    {
     "name": "stdout",
     "output_type": "stream",
     "text": [
      "Количество строк: 1094\n",
      "Количество столбцов: 75\n"
     ]
    }
   ],
   "source": [
    "file = file.dropna(axis=1, thresh=1000).dropna()\n",
    "print(f'Количество строк: {len(file)}\\nКоличество столбцов: {len(file.columns)}')"
   ]
  },
  {
   "cell_type": "markdown",
   "metadata": {},
   "source": [
    "### <a id='toc1_1_1_'></a>[ЗАДАНИЕ №3](#toc0_)\n",
    "Удалите все нечисловые столбцы. Выведите количество оставшихся столбцов."
   ]
  },
  {
   "cell_type": "code",
   "execution_count": 4,
   "metadata": {},
   "outputs": [
    {
     "name": "stdout",
     "output_type": "stream",
     "text": [
      "Количество столбцов: 38\n"
     ]
    }
   ],
   "source": [
    "file = file.select_dtypes(include=np.number)\n",
    "print(f'Количество столбцов: {len(file.columns)}')"
   ]
  },
  {
   "cell_type": "markdown",
   "metadata": {},
   "source": [
    "### <a id='toc1_1_1_'></a>[ЗАДАНИЕ №4](#toc0_)\n",
    "Разбейте набор данных на обучающую и тестовую выборки."
   ]
  },
  {
   "cell_type": "code",
   "execution_count": 5,
   "metadata": {},
   "outputs": [
    {
     "name": "stdout",
     "output_type": "stream",
     "text": [
      "(765, 37) (765,)\n",
      "(329, 37) (329,)\n"
     ]
    }
   ],
   "source": [
    "# SalePrice - the property's sale price in dollars. This is the target variable that you're trying to predict.\n",
    "X_train, X_test, Y_train, Y_test = train_test_split(file.drop('SalePrice', axis=1), file['SalePrice'], test_size = 0.3, random_state = 42)\n",
    "print(X_train.shape, Y_train.shape)\n",
    "print(X_test.shape, Y_test.shape)"
   ]
  },
  {
   "cell_type": "markdown",
   "metadata": {},
   "source": [
    "### <a id='toc1_1_1_'></a>[ЗАДАНИЕ №5](#toc0_)\n",
    "Обучите модель методом линейной регрессии и оцените качество модели (RMSE и R2)"
   ]
  },
  {
   "cell_type": "code",
   "execution_count": 6,
   "metadata": {},
   "outputs": [
    {
     "name": "stdout",
     "output_type": "stream",
     "text": [
      "RMSE: 33973.676462189134\n",
      "R2: 0.84\n"
     ]
    }
   ],
   "source": [
    "model1 = LinearRegression().fit(X_train, Y_train)\n",
    "y_pred = model1.predict(X_test)\n",
    "print(f'RMSE: {np.sqrt(metrics.mean_squared_error(Y_test, y_pred))}\\n' +\n",
    "      f'R2: {np.round(metrics.r2_score(Y_test, y_pred), 2)}')"
   ]
  },
  {
   "cell_type": "markdown",
   "metadata": {},
   "source": [
    "### <a id='toc1_1_1_'></a>[ЗАДАНИЕ №6](#toc0_)\n",
    "Обучите модель методом Лассо c перекрестной проверкой. Выведите коэффициенты (сделайте выводы). Оцените качество модели. "
   ]
  },
  {
   "cell_type": "code",
   "execution_count": 7,
   "metadata": {},
   "outputs": [
    {
     "name": "stdout",
     "output_type": "stream",
     "text": [
      "Лучший коэффициент через автоматический перебор: best_alpha = {10}\n"
     ]
    }
   ],
   "source": [
    "model2 = Lasso()\n",
    "grid_search = GridSearchCV(model2, {'alpha': [0.1, 1, 10]}, cv=5)\n",
    "grid_search.fit(X_train, Y_train)\n",
    "print('Лучший коэффициент через автоматический перебор: best_alpha =', {grid_search.best_params_['alpha']})"
   ]
  },
  {
   "cell_type": "code",
   "execution_count": 8,
   "metadata": {},
   "outputs": [
    {
     "name": "stdout",
     "output_type": "stream",
     "text": [
      "Коэффициенты: [-3.18986159e+00 -2.39877369e+02 -1.18771217e+02  2.47255870e-01\n",
      "  2.09481562e+04  4.84518402e+03  1.92328190e+02  1.25737840e+02\n",
      "  2.84465539e+01  4.94204692e+00 -1.03405858e+01 -6.08822284e+00\n",
      " -4.71593985e+00  4.50281551e+01  3.27815619e+01  3.36846717e+01\n",
      "  3.58306388e+00  1.11286621e+04 -2.60863163e+03  5.41344073e+03\n",
      "  2.54412862e+02 -8.43919105e+03 -2.51580477e+04  6.49392939e+03\n",
      "  4.42449039e+03  3.18765063e+01  1.91497777e+04  6.27964251e+00\n",
      "  1.72262771e+01 -3.90628118e+00 -7.93242441e+00  4.58619502e+01\n",
      "  5.03501772e+01 -2.86399416e+01 -1.00719155e+00 -2.24211864e+02\n",
      " -3.75608581e+02]\n",
      "RMSE: 33959.616226042875\n",
      "R2: 0.84\n"
     ]
    }
   ],
   "source": [
    "model2.alpha = 10\n",
    "model2.fit(X_train, Y_train)\n",
    "print(f'Коэффициенты: {model2.coef_}')\n",
    "y_pred = model2.predict(X_test)\n",
    "print(f'RMSE: {np.sqrt(metrics.mean_squared_error(Y_test, y_pred))}\\n' +\n",
    "      f'R2: {np.round(metrics.r2_score(Y_test, y_pred), 2)}')"
   ]
  },
  {
   "cell_type": "markdown",
   "metadata": {},
   "source": [
    "### <a id='toc1_1_1_'></a>[ЗАДАНИЕ №7](#toc0_)\n",
    "Обучите модель методом Ridge с разными значениями alpha, оцените качество модели и выберите оптимальный вариант. Выведите коэффициенты и сделайте выводы. "
   ]
  },
  {
   "cell_type": "code",
   "execution_count": 9,
   "metadata": {},
   "outputs": [
    {
     "name": "stdout",
     "output_type": "stream",
     "text": [
      "Лучший коэффициент через автоматический перебор: best_alpha = {10}\n"
     ]
    }
   ],
   "source": [
    "model3 = Ridge()\n",
    "grid_search = GridSearchCV(model3, {'alpha': [0.1, 1, 10]}, cv=5)\n",
    "grid_search.fit(X_train, Y_train)\n",
    "print('Лучший коэффициент через автоматический перебор: best_alpha =', {grid_search.best_params_['alpha']})"
   ]
  },
  {
   "cell_type": "code",
   "execution_count": 10,
   "metadata": {},
   "outputs": [
    {
     "name": "stdout",
     "output_type": "stream",
     "text": [
      "Коэффициенты: [-3.01443446e+00 -2.53731422e+02 -1.23877187e+02  2.26464737e-01\n",
      "  2.09920643e+04  4.83045024e+03  2.15161915e+02  1.39786651e+02\n",
      "  2.89206925e+01  6.66574538e+00 -8.39645689e+00 -4.89697203e+00\n",
      " -6.62768356e+00  1.77756205e+01  5.92051335e+00  8.45024029e+00\n",
      "  3.21463760e+01  9.93015155e+03 -2.79550171e+03  4.58330435e+03\n",
      "  2.38872396e+02 -8.03068140e+03 -1.50153095e+04  5.92566038e+03\n",
      "  4.76150971e+03  3.66909714e+01  1.66831168e+04  1.14939179e+01\n",
      "  1.85945035e+01 -2.74944360e+00 -6.64496790e+00  4.79584016e+01\n",
      "  5.22687955e+01 -3.04843150e+01 -9.95063214e-01 -2.19343569e+02\n",
      " -4.03854130e+02]\n",
      "RMSE: 33915.53729726643\n",
      "R2: 0.84\n"
     ]
    }
   ],
   "source": [
    "model3.alpha = 10\n",
    "model3.fit(X_train, Y_train)\n",
    "print(f'Коэффициенты: {model3.coef_}')\n",
    "y_pred = model3.predict(X_test)\n",
    "print(f'RMSE: {np.sqrt(metrics.mean_squared_error(Y_test, y_pred))}\\n' +\n",
    "      f'R2: {np.round(metrics.r2_score(Y_test, y_pred), 2)}')"
   ]
  },
  {
   "cell_type": "markdown",
   "metadata": {},
   "source": [
    "### <a id='toc1_1_1_'></a>[ЗАДАНИЕ №8](#toc0_)\n",
    "Сравните качество всех трех моделей."
   ]
  },
  {
   "cell_type": "markdown",
   "metadata": {},
   "source": [
    "Вывод: модель с самым низким значением RMSE (среднеквадратичная ошибка) является лучшей. В данном случае, это 3 модель с RMSE: 33915.53729726643. Более низкий RMSE указывает на то, что модель имеет меньшую ошибку прогнозирования, что делает ее предпочтительной."
   ]
  }
 ],
 "metadata": {
  "kernelspec": {
   "display_name": "Python 3",
   "language": "python",
   "name": "python3"
  },
  "language_info": {
   "codemirror_mode": {
    "name": "ipython",
    "version": 3
   },
   "file_extension": ".py",
   "mimetype": "text/x-python",
   "name": "python",
   "nbconvert_exporter": "python",
   "pygments_lexer": "ipython3",
   "version": "3.10.7"
  }
 },
 "nbformat": 4,
 "nbformat_minor": 2
}
