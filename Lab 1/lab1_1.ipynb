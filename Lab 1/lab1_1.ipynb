{
 "cells": [
  {
   "cell_type": "markdown",
   "metadata": {},
   "source": [
    "# <a id='toc1_'></a>[<center> Лабораторная работа 1 (часть 1)](#toc0_)"
   ]
  },
  {
   "cell_type": "code",
   "execution_count": 8,
   "metadata": {
    "ExecuteTime": {
     "end_time": "2020-04-23T10:16:05.965275Z",
     "start_time": "2020-04-23T10:16:05.312704Z"
    }
   },
   "outputs": [],
   "source": [
    "import pandas as pd\n",
    "import numpy as np"
   ]
  },
  {
   "cell_type": "code",
   "execution_count": 9,
   "metadata": {
    "ExecuteTime": {
     "end_time": "2020-04-23T10:18:35.713300Z",
     "start_time": "2020-04-23T10:18:35.710616Z"
    }
   },
   "outputs": [],
   "source": [
    "np.random.seed(242)"
   ]
  },
  {
   "cell_type": "markdown",
   "metadata": {},
   "source": [
    "### <a id='toc1_1_1_'></a>[Информация для последующих заданий](#toc0_)\n",
    "- Для всех последующих заданий будем использовать обезличенные транзакционные банковские данные. Для этого считайте в переменные tr_mcc_codes, tr_types, transactions и gender_train из одноимённых таблиц из папки data. Для таблицы transactions используйте только первые n=1000000 строк. Обратите внимание на разделители внутри каждого из файлов - они могут различаться!"
   ]
  },
  {
   "cell_type": "code",
   "execution_count": 10,
   "metadata": {
    "ExecuteTime": {
     "end_time": "2020-04-23T10:19:13.080203Z",
     "start_time": "2020-04-23T10:19:13.077711Z"
    }
   },
   "outputs": [],
   "source": [
    "tr_mcc_codes = pd.read_csv('files1\\\\tr_mcc_codes.csv', sep=';')\n",
    "tr_types = pd.read_csv('files1\\\\tr_types.csv', sep=';')\n",
    "transactions = pd.read_csv('files1\\\\transactions.csv', sep=',', nrows=1000000)\n",
    "gender_train = pd.read_csv('files1\\\\gender_train.csv', sep=',')"
   ]
  },
  {
   "cell_type": "markdown",
   "metadata": {},
   "source": [
    "## <a id='toc1_2_'></a>[Описание данных](#toc0_)\n",
    "### <a id='toc1_2_1_'></a>[Таблица ```transactions.csv```](#toc0_)\n",
    "##### <a id='toc1_2_1_1_1_'></a>[Описание](#toc0_)\n",
    "Таблица содержит историю транзакций клиентов банка за один год и три месяца.\n",
    "\n",
    "##### <a id='toc1_2_1_1_2_'></a>[Формат данных](#toc0_)\n",
    "\n",
    "```\n",
    "customer_id,tr_datetime,mcc_code,tr_type,amount,term_id\n",
    "111111,15 01:40:52,1111,1000,-5224,111111\n",
    "111112,15 15:18:32,3333,2000,-100,11122233\n",
    "...\n",
    "```\n",
    "##### <a id='toc1_2_1_1_3_'></a>[Описание полей](#toc0_)\n",
    "\n",
    " - ```customer_id``` — идентификатор клиента;\n",
    " - ```tr_datetime``` — день и время совершения транзакции (дни нумеруются с начала данных);\n",
    " - ```mcc_code``` — mcc-код транзакции;\n",
    " - ```tr_type``` — тип транзакции;\n",
    " - ```amount``` — сумма транзакции в условных единицах со знаком; ```+``` — начисление средств клиенту (приходная транзакция), ```-``` — списание средств (расходная транзакция);\n",
    " - ```term_id``` — идентификатор терминала;\n",
    "\n",
    "\n",
    "### <a id='toc1_2_2_'></a>[Таблица ```gender_train.csv```](#toc0_)\n",
    "\n",
    "##### <a id='toc1_2_2_1_1_'></a>[Описание](#toc0_)\n",
    "Данная таблица содержит информацию по полу для части клиентов, для которых он известен. Для остальных клиентов пол неизвестен.\n",
    "\n",
    "##### <a id='toc1_2_2_1_2_'></a>[Формат данных](#toc0_)\n",
    "```\n",
    "customer_id,gender\n",
    "111111,0\n",
    "111112,1\n",
    "...\n",
    "```\n",
    "\n",
    "##### <a id='toc1_2_2_1_3_'></a>[Описание полей](#toc0_)\n",
    " - ```customer_id``` — идентификатор клиента;\n",
    " - ```gender``` — пол клиента;\n",
    "\n",
    "### <a id='toc1_2_3_'></a>[Таблица ```tr_mcc_codes.csv```](#toc0_)\n",
    "\n",
    "##### <a id='toc1_2_3_1_1_'></a>[Описание](#toc0_)\n",
    "Данная таблица содержит описание mcc-кодов транзакций.\n",
    "\n",
    "##### <a id='toc1_2_3_1_2_'></a>[Формат данных](#toc0_)\n",
    "```\n",
    "mcc_code;mcc_description\n",
    "1000;словесное описание mcc-кода 1000\n",
    "2000;словесное описание mcc-кода 2000\n",
    "...\n",
    "```\n",
    "\n",
    "##### <a id='toc1_2_3_1_3_'></a>[Описание полей](#toc0_)\n",
    " - ```mcc_code``` – mcc-код транзакции;\n",
    " - ```mcc_description``` — описание mcc-кода транзакции.\n",
    "\n",
    "### <a id='toc1_2_4_'></a>[Таблица ```tr_types.csv```](#toc0_)\n",
    "\n",
    "##### <a id='toc1_2_4_1_1_'></a>[Описание](#toc0_)\n",
    "Данная таблица содержит описание типов транзакций.\n",
    "\n",
    "##### <a id='toc1_2_4_1_2_'></a>[Формат данных](#toc0_)\n",
    "```\n",
    "tr_type;tr_description\n",
    "1000;словесное описание типа транзакции 1000\n",
    "2000;словесное описание типа транзакции 2000\n",
    "...\n",
    "```\n",
    "\n",
    "##### <a id='toc1_2_4_1_3_'></a>[Описание полей](#toc0_)\n",
    " - ```tr_type``` – тип транзакции;\n",
    " - ```tr_description``` — описание типа транзакции;"
   ]
  },
  {
   "cell_type": "markdown",
   "metadata": {},
   "source": [
    "#### <a id='toc1_2_4_2_'></a>[Задание 1.](#toc0_)\n",
    "1. В tr_types выберите произвольные 100 строк с помощью метода sample и выведите их на экран\n",
    "2. В полученной на предыдущем этапе подвыборке найдите долю наблюдений (столбец tr_description), в которой содержится подстрока 'плата' (в любом регистре). (\\*)\n",
    "\n",
    "Выведите ответ в виде вещественного числа, округлённого до двух знаков после запятой, отделив дробную часть точкой в формате \"123.45\"\n",
    "\n",
    "##### <a id='toc1_2_4_2_1_'></a>[Пояснения:](#toc0_)\n",
    "(\\*) Строки \"ПлатА за аренду\", \"ПлатАза аренду\", \"ПЛАТА\" удовлетворяют условию, так как будучи переведёнными в нижний регистр содержат подстроку \"плата\"."
   ]
  },
  {
   "cell_type": "code",
   "execution_count": 11,
   "metadata": {
    "ExecuteTime": {
     "end_time": "2020-04-23T10:19:45.872766Z",
     "start_time": "2020-04-23T10:19:45.870317Z"
    },
    "scrolled": true
   },
   "outputs": [
    {
     "name": "stdout",
     "output_type": "stream",
     "text": [
      "1.1\n",
      "      tr_type                                     tr_description\n",
      "37      6210                    Возврат покупки.POS Зарубеж. ТУ\n",
      "50      7034  Перевод на карту/ с карты через АТМ (без взима...\n",
      "145     2431  Перевод с карты на счет физ.лица в другом банк...\n",
      "4       4001  Плата за получение наличных в Сбербанке (в дру...\n",
      "69      8000                   Поправки по счету клиен. Зачисл.\n",
      "..       ...                                                ...\n",
      "24      4100                Плата за получение наличных. Россия\n",
      "130     2371  Списание с карты на карту по операции <перевод...\n",
      "140     2421  Перевод с карты на счет физ.лица в другом тер....\n",
      "6       4011  Плата за получение наличных в АТМ Сбербанка (в...\n",
      "52      7040  Перевод на карту (с карты) через POS (в предел...\n",
      "\n",
      "[100 rows x 2 columns] \n",
      "\n",
      "\n",
      "1.2\n",
      "Доля: 0.26\n"
     ]
    }
   ],
   "source": [
    "# 1.1\n",
    "random_tr_types_100 = tr_types.sample(n=100)\n",
    "print('1.1\\n', random_tr_types_100, '\\n\\n')\n",
    "\n",
    "# 1.2\n",
    "print(f\"1.2\\nДоля: {len(random_tr_types_100[random_tr_types_100['tr_description'].str.contains('плата', case=False)]) / 100:.2}\")"
   ]
  },
  {
   "cell_type": "markdown",
   "metadata": {},
   "source": [
    "#### <a id='toc1_2_4_3_'></a>[Задание 2.](#toc0_)\n",
    "1. Для поля tr_type датафрейма transactions посчитайте частоту встречаемости всех типов транзакций tr_type в transactions.Частота должна выводиться в долях от единицы (параметр normalize)!\n",
    "2. Выведите названия транзакций, которые попали в топ-5 по частоте встречаемости (использовать цикл!).\n",
    "\n"
   ]
  },
  {
   "cell_type": "code",
   "execution_count": 12,
   "metadata": {
    "ExecuteTime": {
     "end_time": "2020-04-23T10:20:31.273965Z",
     "start_time": "2020-04-23T10:20:31.271483Z"
    }
   },
   "outputs": [
    {
     "name": "stdout",
     "output_type": "stream",
     "text": [
      "2.1\n",
      " tr_type\n",
      "1010    0.231117\n",
      "2010    0.151166\n",
      "7070    0.149006\n",
      "1110    0.137658\n",
      "1030    0.118975\n",
      "          ...   \n",
      "2446    0.000004\n",
      "4096    0.000004\n",
      "8146    0.000003\n",
      "1510    0.000002\n",
      "8100    0.000002\n",
      "Name: proportion, Length: 72, dtype: float64 \n",
      "\n",
      "2.2\n",
      "\n",
      "98    Покупка. POS ТУ СБ РФ\n",
      "Name: tr_description, dtype: object\n",
      "106    Выдача наличных в АТМ Сбербанк России\n",
      "Name: tr_description, dtype: object\n",
      "59    Перевод на карту (с карты) через Мобильный бан...\n",
      "Name: tr_description, dtype: object\n",
      "101    Покупка. POS ТУ Россия\n",
      "Name: tr_description, dtype: object\n",
      "99    Оплата услуги. Банкоматы СБ РФ\n",
      "Name: tr_description, dtype: object\n"
     ]
    }
   ],
   "source": [
    "# 2.1\n",
    "tr_counts = transactions['tr_type'].value_counts(normalize=True)\n",
    "print('2.1\\n', tr_counts, '\\n\\n2.2\\n')\n",
    "\n",
    "# 2.2\n",
    "for i in tr_counts[:5].index:\n",
    "    print(tr_types[tr_types['tr_type'] == i]['tr_description'])"
   ]
  },
  {
   "cell_type": "markdown",
   "metadata": {},
   "source": [
    "#### Задание 3\n",
    "1. Выделите клиента с максимальной суммой транзакции (то есть с максимальным приходом на карту). (\\*)\n",
    "2. Найдите у него наиболее часто встречающийся модуль суммы приходов/расходов. (\\**)\n",
    "\n",
    "\n",
    "##### Пояснения:\n",
    "(\\*) Если у клиента были транзакции [-10000, 10, 0, -10], то максимумом будет являться значение 10. <br>\n",
    "(\\**) Если у клиента были транзакции [-10000, 10, 0, -10], то наиболее встречающийся модуль суммы транзакций равен 10, и встретился он 2 раза."
   ]
  },
  {
   "cell_type": "code",
   "execution_count": 13,
   "metadata": {
    "ExecuteTime": {
     "end_time": "2020-04-23T10:20:53.265495Z",
     "start_time": "2020-04-23T10:20:53.263208Z"
    },
    "scrolled": true
   },
   "outputs": [
    {
     "name": "stdout",
     "output_type": "stream",
     "text": [
      "3.1\n",
      "Клиент: 26782922 \n",
      "\n",
      "\n",
      "3.2\n",
      "Сумма: 22459.16\n"
     ]
    }
   ],
   "source": [
    "# 3.1\n",
    "tr_amount = transactions['amount']\n",
    "humen = transactions[tr_amount == tr_amount.max()]['customer_id'].values[0]\n",
    "print('3.1\\nКлиент:', humen, '\\n\\n')\n",
    "\n",
    "# 3.2\n",
    "print('3.2\\nСумма:', transactions[transactions['customer_id'] == humen]['amount'].apply(lambda x: abs(x)).value_counts().index[0])"
   ]
  },
  {
   "cell_type": "markdown",
   "metadata": {},
   "source": [
    "#### Задание 4.\n",
    "1. Вычислите для каждого клиента общую сумму транзакций и посчитайте медиану сумм транзакций для всех клиентов\n",
    "2. Вычислите для каждого клиента общую сумму транзакций только по тем строкам, где нет пустых значений и посчитайте медиану сумм транзакций для всех клиентов по данной выборке\n",
    "3. Отсортируйте транзакции по полю amount в порядке возрастания и удалите строки, которые дублируются по столбцам [mcc_code, tr_type], причем при удалении нужно оставить только последние из дублирующихся строк (keep='last')\n",
    "4. Для полученной выше выборки снова найдите общую сумму транзакций для каждого клиента и посчитайте медиану сумм транзакций для всех клиентов\n",
    "5. Найдите максимальную разницу между вычисленными тремя медианами сумм транзакций (*).\n",
    "Выведите ответ в виде вещественного числа, округлённого до двух знаков после запятой, отделив дробную часть точкой в формате \"123.45\"\n",
    "\n",
    "##### Пояснения:\n",
    "(\\*) Для вычисления максимальной разницы между значениями списка можно использовать функцию np.ptp  \n",
    "(\\**) Если в результате получились значения [1,3,5], то макимальная разница между ними 4 == 5-1."
   ]
  },
  {
   "cell_type": "code",
   "execution_count": 14,
   "metadata": {
    "ExecuteTime": {
     "end_time": "2020-04-23T10:21:36.645933Z",
     "start_time": "2020-04-23T10:21:36.643612Z"
    },
    "scrolled": true
   },
   "outputs": [
    {
     "name": "stdout",
     "output_type": "stream",
     "text": [
      "4.1\n",
      "customer_id\n",
      "115617     -10978011.60\n",
      "117556      -8666289.58\n",
      "127946      -2265191.34\n",
      "186730      -2579583.44\n",
      "189257     -17685087.75\n",
      "               ...     \n",
      "99864691        5109.24\n",
      "99900908    -5904752.98\n",
      "99953525    -4914623.05\n",
      "99967537    -1846142.77\n",
      "99999680   -16858696.35\n",
      "Name: amount, Length: 1892, dtype: float64\n",
      "\n",
      "Медиана 1: -7619252.365\n",
      "\n",
      "\n",
      "4.2\n",
      "customer_id\n",
      "115617     -4951399.84\n",
      "117556     -4693477.09\n",
      "127946     -1260210.52\n",
      "186730      -680569.57\n",
      "189257     -9116504.60\n",
      "               ...    \n",
      "99864691       5196.82\n",
      "99900908   -3069357.95\n",
      "99953525   -3228976.74\n",
      "99967537   -1846142.77\n",
      "99999680   -6106113.07\n",
      "Name: amount, Length: 1889, dtype: float64\n",
      "\n",
      "Медиана 2: -4076575.59\n",
      "\n"
     ]
    },
    {
     "name": "stdout",
     "output_type": "stream",
     "text": [
      "\n",
      "4.3\n",
      "         customer_id   tr_datetime  mcc_code  tr_type        amount   term_id\n",
      "300810     30627668  255 00:00:00      8299     1200 -7.012701e+05  00000002\n",
      "608865     67901119  168 00:00:00      8011     1210 -6.981068e+05       NaN\n",
      "3727        1585299  433 08:00:27      5532     1100 -6.558074e+05    759823\n",
      "111920     54645432  167 00:00:00      5722     1200 -5.971890e+05       NaN\n",
      "814386     54890147   91 00:00:00      5261     1100 -5.703288e+05       NaN\n",
      "...             ...           ...       ...      ...           ...       ...\n",
      "703464     87451106   72 14:49:38      6011     7010  9.769734e+06       NaN\n",
      "76813       1747627  137 12:38:52      6010     7071  1.122958e+07       NaN\n",
      "62067       9363087  295 04:33:03      6010     7021  2.202727e+07    152657\n",
      "162550     82581973  192 18:18:17      6010     7020  6.737747e+07       NaN\n",
      "308597     26782922  151 11:35:44      6010     7070  1.459845e+08       NaN\n",
      "\n",
      "[839 rows x 6 columns] \n",
      "\n",
      "\n",
      "4.4\n",
      "customer_id\n",
      "302489       -1076.69\n",
      "361458        -673.77\n",
      "493506         -56.15\n",
      "701335       -9048.35\n",
      "961425       -1661.98\n",
      "              ...    \n",
      "98612933    269509.89\n",
      "99014776    273642.38\n",
      "99172426    -31001.28\n",
      "99289665       -11.23\n",
      "99622409    127883.80\n",
      "Name: amount, Length: 450, dtype: float64\n",
      "\n",
      "Медиана 3: -449.18\n",
      "\n",
      "\n",
      "Максимальная разница: 7618803.19\n"
     ]
    }
   ],
   "source": [
    "# 4.1\n",
    "tr = transactions.groupby('customer_id')['amount'].sum()\n",
    "print(f\"4.1\\n{tr}\\n\\nМедиана 1: {tr.median()}\\n\\n\")\n",
    "\n",
    "# 4.2\n",
    "tr_not_null = transactions.dropna().groupby('customer_id')['amount'].sum()\n",
    "print(f\"4.2\\n{tr_not_null}\\n\\nМедиана 2: {tr_not_null.median()}\\n\\n\")\n",
    "\n",
    "# 4.3\n",
    "transactions_2 = transactions.sort_values(by='amount').drop_duplicates(subset=['mcc_code', 'tr_type'], keep='last')\n",
    "print('4.3\\n', transactions_2, '\\n\\n')\n",
    "\n",
    "# 4.4\n",
    "transactions_2 = transactions_2.groupby('customer_id')['amount'].sum()\n",
    "print(f\"4.4\\n{transactions_2}\\n\\nМедиана 3: {transactions_2.median()}\\n\\n\")\n",
    "\n",
    "# 4.5\n",
    "print(f\"Максимальная разница: {np.ptp([tr.median(), tr_not_null.median(), transactions_2.median()]):.2f}\")"
   ]
  }
 ],
 "metadata": {
  "hide_input": false,
  "kernelspec": {
   "display_name": "Python 3 (ipykernel)",
   "language": "python",
   "name": "python3"
  },
  "language_info": {
   "codemirror_mode": {
    "name": "ipython",
    "version": 3
   },
   "file_extension": ".py",
   "mimetype": "text/x-python",
   "name": "python",
   "nbconvert_exporter": "python",
   "pygments_lexer": "ipython3",
   "version": "3.10.7"
  },
  "toc": {
   "base_numbering": 1,
   "nav_menu": {},
   "number_sections": true,
   "sideBar": true,
   "skip_h1_title": false,
   "title_cell": "Table of Contents",
   "title_sidebar": "Contents",
   "toc_cell": true,
   "toc_position": {},
   "toc_section_display": true,
   "toc_window_display": false
  },
  "varInspector": {
   "cols": {
    "lenName": 16,
    "lenType": 16,
    "lenVar": 40
   },
   "kernels_config": {
    "python": {
     "delete_cmd_postfix": "",
     "delete_cmd_prefix": "del ",
     "library": "var_list.py",
     "varRefreshCmd": "print(var_dic_list())"
    },
    "r": {
     "delete_cmd_postfix": ") ",
     "delete_cmd_prefix": "rm(",
     "library": "var_list.r",
     "varRefreshCmd": "cat(var_dic_list()) "
    }
   },
   "types_to_exclude": [
    "module",
    "function",
    "builtin_function_or_method",
    "instance",
    "_Feature"
   ],
   "window_display": false
  }
 },
 "nbformat": 4,
 "nbformat_minor": 2
}
