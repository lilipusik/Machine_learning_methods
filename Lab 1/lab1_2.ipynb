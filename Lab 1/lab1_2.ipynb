{
 "cells": [
  {
   "cell_type": "markdown",
   "metadata": {},
   "source": [
    "# <center> Лабораторная 1 (часть 2)"
   ]
  },
  {
   "cell_type": "code",
   "execution_count": 2,
   "metadata": {
    "ExecuteTime": {
     "end_time": "2020-04-23T10:26:06.303166Z",
     "start_time": "2020-04-23T10:26:05.458848Z"
    }
   },
   "outputs": [],
   "source": [
    "import pandas as pd\n",
    "import numpy as np"
   ]
  },
  {
   "cell_type": "markdown",
   "metadata": {},
   "source": [
    "Считайте в переменные tr_mcc_codes, tr_types, transactions и customers_gender_train. В transactions опять  только первые 1000000 строк."
   ]
  },
  {
   "cell_type": "code",
   "execution_count": 3,
   "metadata": {
    "ExecuteTime": {
     "end_time": "2020-04-23T10:26:18.234475Z",
     "start_time": "2020-04-23T10:26:18.232003Z"
    }
   },
   "outputs": [],
   "source": [
    "tr_mcc_codes = pd.read_csv('files1\\\\tr_mcc_codes.csv', sep=';')\n",
    "tr_types = pd.read_csv('files1\\\\tr_types.csv', sep=';')\n",
    "transactions = pd.read_csv('files1\\\\transactions.csv', sep=',', nrows=1000000)\n",
    "customers_gender_train = pd.read_csv('files1\\\\gender_train.csv', sep=',')"
   ]
  },
  {
   "cell_type": "markdown",
   "metadata": {},
   "source": [
    "#### Задание 5\n",
    "Соедините transactions с всеми остальными таблицами (tr_mcc_codes, tr_types, gender_train) с помощью merge. Причём с customers_gender_train необходимо использовать соединение с помощью left, а с оставшимися датафреймами - через inner.\n",
    "В результате соединения датафреймов должно получиться 999584 строки."
   ]
  },
  {
   "cell_type": "code",
   "execution_count": 4,
   "metadata": {
    "ExecuteTime": {
     "end_time": "2020-04-23T10:26:27.618399Z",
     "start_time": "2020-04-23T10:26:27.615930Z"
    }
   },
   "outputs": [
    {
     "name": "stdout",
     "output_type": "stream",
     "text": [
      "        customer_id   tr_datetime  mcc_code  tr_type      amount term_id  \\\n",
      "0          39026145    0 10:23:26      4814     1030    -2245.92     NaN   \n",
      "1          39026145    6 07:08:31      4814     1030    -5614.79     NaN   \n",
      "2          39026145    8 07:06:10      4814     1030    -1122.96     NaN   \n",
      "3          39026145   11 08:49:03      4814     1030    -2245.92     NaN   \n",
      "4          39026145   11 14:12:08      4814     1030    -2245.92     NaN   \n",
      "...             ...           ...       ...      ...         ...     ...   \n",
      "999579     36837532   18 23:38:60      3000     6000  1297824.89     NaN   \n",
      "999580      6808459  206 19:00:10      3000     6000   124693.24     NaN   \n",
      "999581     83759123   90 22:40:57      3000     6000   218976.79     NaN   \n",
      "999582     89619970  104 23:39:35      3000     6000   408307.49     NaN   \n",
      "999583     89619970  105 23:38:49      3000     6000   204153.74     NaN   \n",
      "\n",
      "        gender                                    mcc_description  \\\n",
      "0          1.0  Звонки с использованием телефонов, считывающих...   \n",
      "1          1.0  Звонки с использованием телефонов, считывающих...   \n",
      "2          1.0  Звонки с использованием телефонов, считывающих...   \n",
      "3          1.0  Звонки с использованием телефонов, считывающих...   \n",
      "4          1.0  Звонки с использованием телефонов, считывающих...   \n",
      "...        ...                                                ...   \n",
      "999579     NaN                            Авиалинии, авиакомпании   \n",
      "999580     NaN                            Авиалинии, авиакомпании   \n",
      "999581     NaN                            Авиалинии, авиакомпании   \n",
      "999582     NaN                            Авиалинии, авиакомпании   \n",
      "999583     NaN                            Авиалинии, авиакомпании   \n",
      "\n",
      "                        tr_description  \n",
      "0       Оплата услуги. Банкоматы СБ РФ  \n",
      "1       Оплата услуги. Банкоматы СБ РФ  \n",
      "2       Оплата услуги. Банкоматы СБ РФ  \n",
      "3       Оплата услуги. Банкоматы СБ РФ  \n",
      "4       Оплата услуги. Банкоматы СБ РФ  \n",
      "...                                ...  \n",
      "999579      Возврат  покупки. ТУ СБ РФ  \n",
      "999580      Возврат  покупки. ТУ СБ РФ  \n",
      "999581      Возврат  покупки. ТУ СБ РФ  \n",
      "999582      Возврат  покупки. ТУ СБ РФ  \n",
      "999583      Возврат  покупки. ТУ СБ РФ  \n",
      "\n",
      "[999584 rows x 9 columns]\n"
     ]
    }
   ],
   "source": [
    "merges = transactions.merge(customers_gender_train, how='left').merge(tr_mcc_codes).merge(tr_types)\n",
    "print(merges)"
   ]
  },
  {
   "cell_type": "markdown",
   "metadata": {},
   "source": [
    "#### Задание 6\n",
    "Определите модуль разницы между средними тратами женщин и мужчин (трата - отрицательное значение amount). (*)\n",
    "\n",
    "Представьте ответ в виде вещественного числа, округлённого до двух знаков после запятой, отделив дробную часть точкой в формате \"123.45\"\n",
    "\n",
    "##### Пояснения:\n",
    "(\\*) Если в результате для мужчин получились значения [-1,-3,-5], а для женщин [-1,-2,-3],  \n",
    "то модуль разницы между средними арифметическими -3 и -2 будет равен 1.\n",
    "\n",
    "(\\**) Обратите внимание, что для вычисления модуля разности точных знаний о том,  \n",
    "какой класc относится к мужчинам, а какой - к женщинам, пока не требуется.\n",
    "\n",
    "(\\***) Округление не нужно производить отдельно по средним тратам женщин и мужчин, а только в самом конце, когда получите значение модуля разницы трат."
   ]
  },
  {
   "cell_type": "code",
   "execution_count": 5,
   "metadata": {
    "ExecuteTime": {
     "end_time": "2020-04-23T10:35:27.760136Z",
     "start_time": "2020-04-23T10:35:27.757599Z"
    }
   },
   "outputs": [
    {
     "name": "stdout",
     "output_type": "stream",
     "text": [
      "32718.05\n"
     ]
    }
   ],
   "source": [
    "print(f\"{merges[merges['amount'] < 0].groupby('gender')['amount'].mean().diff().abs().values[1]:.2f}\")"
   ]
  },
  {
   "cell_type": "markdown",
   "metadata": {},
   "source": [
    "#### Задание 7\n",
    "1. Создайте новый столбец - mcc_code+tr_type, сконкатенировав значения из соответствующих столбцов. (\\*)\n",
    "2. Оставьте только наблюдения с отрицательным значением amount. Посчитайте дисперсию и количество наблюдений по категориям для получившегося столбца mcc_code+tr_type (\\**)\n",
    "3. Оставить только те строки, в которых количество наблюдений >= 10. Определите отношение максимальной дисперсии к минимальной. Выведите ответ в виде вещественного числа, округлённого до ближайшего целого в формате \"123456\" без дробной части.\n",
    "\n",
    "##### Пояснения:\n",
    "(\\*) Для конкатенации значений в столбцах можно использовать метод .astype(str) для серии и складывать соответствующие серии. \n",
    "\n",
    "(\\**) Для одновременного подсчета количества наблюдений и дисперсии по категориям можно воспользоваться группировкой и функцией .agg()"
   ]
  },
  {
   "cell_type": "code",
   "execution_count": 6,
   "metadata": {
    "ExecuteTime": {
     "end_time": "2020-04-23T10:35:39.478241Z",
     "start_time": "2020-04-23T10:35:39.475846Z"
    }
   },
   "outputs": [
    {
     "name": "stdout",
     "output_type": "stream",
     "text": [
      "7.1\n",
      " 0         48141030\n",
      "1         48141030\n",
      "2         48141030\n",
      "3         48141030\n",
      "4         48141030\n",
      "            ...   \n",
      "999579    30006000\n",
      "999580    30006000\n",
      "999581    30006000\n",
      "999582    30006000\n",
      "999583    30006000\n",
      "Name: mcc_code+tr_types, Length: 999584, dtype: int32 \n",
      "\n",
      "\n",
      "7.2\n",
      "                             var  count\n",
      "mcc_code+tr_types                     \n",
      "7421110            5.963037e+08     24\n",
      "7421210            1.472955e+08      3\n",
      "17111110           4.029687e+10     18\n",
      "17311010           5.335287e+08      3\n",
      "17311110                    NaN      1\n",
      "...                         ...    ...\n",
      "93991110           3.085348e+08      5\n",
      "93991200           1.843060e+10     18\n",
      "93991210           4.044796e+09      6\n",
      "93991510                    NaN      1\n",
      "94021110           9.900315e+07      3\n",
      "\n",
      "[667 rows x 2 columns] \n",
      "\n",
      "\n",
      "7.3\n",
      "Отношение макс. дисперсии к мин.:  9170599.00280999\n"
     ]
    }
   ],
   "source": [
    "# 7.1\n",
    "merges['mcc_code+tr_types'] = (merges['mcc_code'].astype(str) + merges['tr_type'].astype(str)).astype(int)\n",
    "print('7.1\\n', merges['mcc_code+tr_types'], '\\n\\n')\n",
    "\n",
    "# 7.2\n",
    "observations = merges[merges['amount'] < 0].groupby('mcc_code+tr_types')['amount'].agg(['var', 'count'])\n",
    "print('7.2\\n', observations, '\\n\\n')\n",
    "\n",
    "# 7.3\n",
    "vars = observations[observations['count'] >= 10]['var']\n",
    "print('7.3\\nОтношение макс. дисперсии к мин.: ', vars.max() / vars.min())"
   ]
  },
  {
   "cell_type": "markdown",
   "metadata": {},
   "source": [
    "#### Задание 8:\n",
    "1. По всем типам транзакций рассчитайте максимальную сумму прихода на карту для каждого клиента (из строго положительных сумм по столбцу amount). \n",
    "2. Выведите по 5 наименьших транзакций отдельно для мужчин и для женщин (*)\n",
    "3. Выведите на экран названия транзакций, которые одновременно встречаются у мужчин и женщин из пункта 2.\n",
    "\n",
    "##### Пояснения:\n",
    "(\\*) Если максимальные суммы приходов по каким-то типам были равны [1,2,3,4,5,6,7,8], то 5 минимальных из них: [1,2,3,4,5]"
   ]
  },
  {
   "cell_type": "code",
   "execution_count": 34,
   "metadata": {
    "ExecuteTime": {
     "end_time": "2020-04-23T10:36:36.494729Z",
     "start_time": "2020-04-23T10:36:36.492051Z"
    },
    "scrolled": false
   },
   "outputs": [
    {
     "name": "stdout",
     "output_type": "stream",
     "text": [
      "8.1\n",
      "         customer_id   tr_datetime  mcc_code  tr_type        amount term_id\n",
      "556749     75010111  300 19:26:05      6010     7030  1.123000e+01   80364\n",
      "110219     68961483  217 10:21:14      6010     7070  2.245900e+02  888991\n",
      "665116     88260849  297 10:18:10      6010     7070  2.245900e+02  888993\n",
      "682616      9060208  334 16:43:37      6010     7070  2.245900e+02  888909\n",
      "271023      1877899  132 08:56:32      6011     7010  1.122960e+03     NaN\n",
      "...             ...           ...       ...      ...           ...     ...\n",
      "734222     77695202  132 14:07:18      6010     7070  6.123489e+07     NaN\n",
      "162550     82581973  192 18:18:17      6010     7020  6.737747e+07     NaN\n",
      "123977     40917212   43 17:10:40      6010     7070  6.737747e+07     NaN\n",
      "102522     19950741  143 14:08:24      6010     7070  1.347549e+08     NaN\n",
      "308597     26782922  151 11:35:44      6010     7070  1.459845e+08     NaN\n",
      "\n",
      "[1725 rows x 6 columns] \n",
      "\n",
      "\n",
      "8.2\n",
      "Женщины:\n",
      "    customer_id   tr_datetime  mcc_code  tr_type   amount term_id  gender\n",
      "2      88260849  297 10:18:10      6010     7070   224.59  888993     0.0\n",
      "6      42469382  262 15:13:05      6010     7070  1122.96  945003     0.0\n",
      "8      19534721  102 16:03:38      6011     7010  1122.96     NaN     0.0\n",
      "13      7124049  328 15:15:36      6011     7010  2245.92  850036     0.0\n",
      "17     88757297  311 11:49:24      6010     7070  3503.63  888986     0.0\n",
      "Мужчины\n",
      "    customer_id   tr_datetime  mcc_code  tr_type   amount term_id  gender\n",
      "3       9060208  334 16:43:37      6010     7070   224.59  888909     1.0\n",
      "4       1877899  132 08:56:32      6011     7010  1122.96     NaN     1.0\n",
      "9      56896548  395 14:29:06      6010     7070  1207.63  888992     1.0\n",
      "16     76034809  421 09:58:29      6010     7070  2245.92  945033     1.0\n",
      "21     37309301  425 07:42:60      6010     7070  4491.83  945025     1.0\n",
      "\n",
      "\n",
      "8.3\n",
      "Общие транзакции:\n",
      "   tr_type                                     tr_description\n",
      "0     7070  Перевод на карту (с карты) через Мобильный бан...\n",
      "1     7010       Взнос наличных через АТМ (в своем тер.банке)\n"
     ]
    }
   ],
   "source": [
    "# 8.1\n",
    "tr_max = transactions[transactions['amount'] > 0].sort_values(by='amount').drop_duplicates(subset='customer_id', keep='last')\n",
    "print('8.1\\n', tr_max, '\\n\\n')\n",
    "\n",
    "# 8.2\n",
    "tr_max_gender = tr_max.merge(customers_gender_train, how='left', on='customer_id')\n",
    "fem = tr_max_gender[tr_max_gender['gender'] == 0][:5]\n",
    "men = tr_max_gender[tr_max_gender['gender'] == 1][:5]\n",
    "print(f\"8.2\\nЖенщины:\\n{fem}\\nМужчины\\n{men}\\n\\n\")\n",
    "\n",
    "# 8.3\n",
    "print(f\"8.3\\nОбщие транзакции:\\n{pd.merge(fem['tr_type'], men['tr_type']).drop_duplicates().merge(tr_types)}\")"
   ]
  }
 ],
 "metadata": {
  "hide_input": false,
  "kernelspec": {
   "display_name": "Python 3 (ipykernel)",
   "language": "python",
   "name": "python3"
  },
  "language_info": {
   "codemirror_mode": {
    "name": "ipython",
    "version": 3
   },
   "file_extension": ".py",
   "mimetype": "text/x-python",
   "name": "python",
   "nbconvert_exporter": "python",
   "pygments_lexer": "ipython3",
   "version": "3.10.7"
  },
  "toc": {
   "base_numbering": 1,
   "nav_menu": {},
   "number_sections": true,
   "sideBar": true,
   "skip_h1_title": false,
   "title_cell": "Table of Contents",
   "title_sidebar": "Contents",
   "toc_cell": true,
   "toc_position": {},
   "toc_section_display": true,
   "toc_window_display": false
  },
  "varInspector": {
   "cols": {
    "lenName": 16,
    "lenType": 16,
    "lenVar": 40
   },
   "kernels_config": {
    "python": {
     "delete_cmd_postfix": "",
     "delete_cmd_prefix": "del ",
     "library": "var_list.py",
     "varRefreshCmd": "print(var_dic_list())"
    },
    "r": {
     "delete_cmd_postfix": ") ",
     "delete_cmd_prefix": "rm(",
     "library": "var_list.r",
     "varRefreshCmd": "cat(var_dic_list()) "
    }
   },
   "types_to_exclude": [
    "module",
    "function",
    "builtin_function_or_method",
    "instance",
    "_Feature"
   ],
   "window_display": false
  }
 },
 "nbformat": 4,
 "nbformat_minor": 2
}
